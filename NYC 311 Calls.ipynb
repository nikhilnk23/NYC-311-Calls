{
 "cells": [
  {
   "cell_type": "code",
   "execution_count": 1,
   "id": "ef1676d3-44f9-417d-a185-b85546f4e9ea",
   "metadata": {
    "tags": []
   },
   "outputs": [],
   "source": [
    "import pandas as pd\n",
    "import matplotlib.pyplot as plt\n",
    "import seaborn as sns"
   ]
  },
  {
   "cell_type": "code",
   "execution_count": 2,
   "id": "d41af16a-3d8b-45c4-9242-d2b5be169119",
   "metadata": {
    "tags": []
   },
   "outputs": [],
   "source": [
    "df = pd.read_pickle('shared/Project-3_NYC_311_Calls.pkl')\n"
   ]
  },
  {
   "cell_type": "code",
   "execution_count": 3,
   "id": "91636503-8555-4c19-9c65-5c75033b8c28",
   "metadata": {
    "tags": []
   },
   "outputs": [],
   "source": [
    "df = df.set_index(pd.DatetimeIndex(df['Created Date']))\n",
    "del df['Created Date']"
   ]
  },
  {
   "cell_type": "markdown",
   "id": "f7241798-ddf8-4a01-b695-99a3f1e88682",
   "metadata": {},
   "source": [
    "## Question 1"
   ]
  },
  {
   "cell_type": "code",
   "execution_count": 4,
   "id": "f21db3c8-3470-46c7-91cc-a63483c14248",
   "metadata": {
    "tags": []
   },
   "outputs": [],
   "source": [
    "df_2022 = df[df.index.year == 2022]"
   ]
  },
  {
   "cell_type": "code",
   "execution_count": 5,
   "id": "534b6c85-b96c-48d0-831c-accbb4aaf72a",
   "metadata": {
    "tags": []
   },
   "outputs": [
    {
     "name": "stdout",
     "output_type": "stream",
     "text": [
      "Average number of daily complaints received in 2022: 8684\n"
     ]
    }
   ],
   "source": [
    "if not df_2022.empty:\n",
    "        # Calculate the average number of daily complaints received in 2022\n",
    "        daily_complaints_2022 = df_2022['Unique Key'].resample('D').count()\n",
    "        average_daily_complaints_2022 = daily_complaints_2022.mean()\n",
    "\n",
    "        print(\"Average number of daily complaints received in 2022:\", round(average_daily_complaints_2022))\n",
    "\n",
    "else:\n",
    "        print(\"No data available for the year 2022.\")"
   ]
  },
  {
   "cell_type": "markdown",
   "id": "4e83c43c-7fcc-4704-a2f3-4b75a05ab66b",
   "metadata": {},
   "source": [
    "## Question 2:\n"
   ]
  },
  {
   "cell_type": "code",
   "execution_count": 7,
   "id": "7502a8a5-7cb6-4ab4-883a-cc0482d07f61",
   "metadata": {
    "tags": []
   },
   "outputs": [],
   "source": [
    "df.index = pd.to_datetime(df.index)\n"
   ]
  },
  {
   "cell_type": "code",
   "execution_count": 8,
   "id": "f770e47f-3b86-4cbf-9846-5719cf2ccb29",
   "metadata": {
    "tags": []
   },
   "outputs": [],
   "source": [
    "daily_calls = df.groupby(df.index.date).size()\n"
   ]
  },
  {
   "cell_type": "code",
   "execution_count": 9,
   "id": "b0a0b439-9245-4eb7-a31c-18e2b11b3a6c",
   "metadata": {
    "tags": []
   },
   "outputs": [],
   "source": [
    "max_calls_date = daily_calls.idxmax()"
   ]
  },
  {
   "cell_type": "code",
   "execution_count": 10,
   "id": "e9a51c8a-1bba-45f9-8612-6841adbcbdbe",
   "metadata": {
    "tags": []
   },
   "outputs": [
    {
     "data": {
      "text/plain": [
       "datetime.date(2020, 8, 4)"
      ]
     },
     "execution_count": 10,
     "metadata": {},
     "output_type": "execute_result"
    }
   ],
   "source": [
    "max_calls_date"
   ]
  },
  {
   "cell_type": "markdown",
   "id": "283e7479-dade-45d4-bf05-a6df89005c79",
   "metadata": {},
   "source": [
    "## Question 3:\n"
   ]
  },
  {
   "cell_type": "code",
   "execution_count": 6,
   "id": "2a768e06-58ea-4964-83db-8dbd0732aa0d",
   "metadata": {
    "tags": []
   },
   "outputs": [],
   "source": [
    "df.index = pd.to_datetime(df.index)\n"
   ]
  },
  {
   "cell_type": "code",
   "execution_count": 7,
   "id": "7148c3ab-3ada-48e4-a76c-c8dc02cc71b7",
   "metadata": {
    "tags": []
   },
   "outputs": [],
   "source": [
    "daily_calls = df.groupby(df.index.date).size()\n"
   ]
  },
  {
   "cell_type": "code",
   "execution_count": 8,
   "id": "61eeba2b-6d69-4afb-bb2c-0d8dfa72bae9",
   "metadata": {
    "tags": []
   },
   "outputs": [],
   "source": [
    "max_calls_date = daily_calls.idxmax()"
   ]
  },
  {
   "cell_type": "code",
   "execution_count": 11,
   "id": "be3f7d81-edc4-409e-9b50-1a56c1368274",
   "metadata": {
    "tags": []
   },
   "outputs": [],
   "source": [
    "max_calls_df = df[df.index.date == max_calls_date]"
   ]
  },
  {
   "cell_type": "code",
   "execution_count": 12,
   "id": "e6f42881-7c64-4965-97e7-cdbe2d8046ff",
   "metadata": {
    "tags": []
   },
   "outputs": [
    {
     "name": "stdout",
     "output_type": "stream",
     "text": [
      "On the date with the maximum number of calls (1970-01-01), the most important complaint type was: Noise - Residential\n"
     ]
    }
   ],
   "source": [
    "most_important_complaint = max_calls_df['Complaint Type'].mode().iloc[0]\n",
    "\n",
    "print(f\"On the date with the maximum number of calls ({max_calls_date}), the most important complaint type was: {most_important_complaint}\")"
   ]
  },
  {
   "cell_type": "markdown",
   "id": "c9bf4645-46be-44ee-919a-6c863e3c7adb",
   "metadata": {},
   "source": [
    "## Question 4:"
   ]
  },
  {
   "cell_type": "code",
   "execution_count": 12,
   "id": "38660c39-3d1e-4784-9c00-533d8c56d67b",
   "metadata": {
    "tags": []
   },
   "outputs": [],
   "source": [
    "calls_per_month = df.resample('M').size()\n"
   ]
  },
  {
   "cell_type": "code",
   "execution_count": 13,
   "id": "f457f2fd-6e25-4d95-bb80-6519dfb469c8",
   "metadata": {
    "tags": []
   },
   "outputs": [],
   "source": [
    "quietest_month = calls_per_month.idxmin()\n"
   ]
  },
  {
   "cell_type": "code",
   "execution_count": 14,
   "id": "a2accd58-2a50-4012-90f8-cce587f7d4dc",
   "metadata": {
    "tags": []
   },
   "outputs": [
    {
     "name": "stdout",
     "output_type": "stream",
     "text": [
      "The quietest month, historically, is: January 1970\n"
     ]
    }
   ],
   "source": [
    "print(f\"The quietest month, historically, is: {quietest_month.strftime('%B %Y')}\")"
   ]
  },
  {
   "cell_type": "markdown",
   "id": "97d111c9-ad5e-4662-9e2c-a0a7fce50071",
   "metadata": {},
   "source": [
    "\n",
    "## Question 5:"
   ]
  },
  {
   "cell_type": "code",
   "execution_count": 3,
   "id": "bae8168d-5c40-4b4b-8391-41c93299e180",
   "metadata": {
    "tags": []
   },
   "outputs": [],
   "source": [
    "import pandas as pd\n",
    "import statsmodels.api as sm"
   ]
  },
  {
   "cell_type": "code",
   "execution_count": 4,
   "id": "7930603b-c59c-42db-979a-bba7c997dadd",
   "metadata": {
    "tags": []
   },
   "outputs": [],
   "source": [
    "df = pd.read_pickle('shared/Project-3_NYC_311_Calls.pkl')"
   ]
  },
  {
   "cell_type": "code",
   "execution_count": 5,
   "id": "79d6e9ed-777a-4ba4-baac-8e76ea02807c",
   "metadata": {
    "tags": []
   },
   "outputs": [],
   "source": [
    "df.index = pd.to_datetime(df['Created Date'])\n",
    "df = df.set_index('Created Date')\n"
   ]
  },
  {
   "cell_type": "code",
   "execution_count": 8,
   "id": "00451d20-fb94-4e13-8108-a038ea247597",
   "metadata": {
    "tags": []
   },
   "outputs": [],
   "source": [
    "df_daily = df['Unique Key'].resample('D').count()"
   ]
  },
  {
   "cell_type": "code",
   "execution_count": 9,
   "id": "7b8743d3-4cb2-4ab6-87de-fd04c24a0b60",
   "metadata": {
    "tags": []
   },
   "outputs": [],
   "source": [
    "result = sm.tsa.seasonal_decompose(df_daily, model='additive')"
   ]
  },
  {
   "cell_type": "code",
   "execution_count": 10,
   "id": "69f91fc5-df3a-4e3e-a625-2ab14acfa56f",
   "metadata": {
    "tags": []
   },
   "outputs": [],
   "source": [
    "seasonal_component = result.seasonal['2020-12-25'].round().astype(int)\n"
   ]
  },
  {
   "cell_type": "code",
   "execution_count": 11,
   "id": "735e8027-bc4d-441c-bb43-74bfaf375254",
   "metadata": {
    "tags": []
   },
   "outputs": [
    {
     "name": "stdout",
     "output_type": "stream",
     "text": [
      "The value of the seasonal component on 2020-12-25 (rounded to the nearest integer) is: 183\n"
     ]
    }
   ],
   "source": [
    "print(f\"The value of the seasonal component on 2020-12-25 (rounded to the nearest integer) is: {seasonal_component}\")"
   ]
  },
  {
   "cell_type": "markdown",
   "id": "48bee7ca-bcf9-44e3-9f18-8f35f6f47c8e",
   "metadata": {},
   "source": [
    "## Question 6:"
   ]
  },
  {
   "cell_type": "code",
   "execution_count": 12,
   "id": "e33184b1-a57e-44fc-b898-2096e904b229",
   "metadata": {
    "tags": []
   },
   "outputs": [],
   "source": [
    "autocorr_lag1 = df_daily.autocorr(lag=1)"
   ]
  },
  {
   "cell_type": "code",
   "execution_count": 13,
   "id": "9ca1ef84-e638-4b1c-9c2e-1ca3a5e1a2db",
   "metadata": {
    "tags": []
   },
   "outputs": [
    {
     "name": "stdout",
     "output_type": "stream",
     "text": [
      "The autocorrelation with a lag of 1 is: 0.7517059728398577\n"
     ]
    }
   ],
   "source": [
    "print(f\"The autocorrelation with a lag of 1 is: {autocorr_lag1}\")"
   ]
  },
  {
   "cell_type": "markdown",
   "id": "e80f19c3-1118-4cc8-8892-59a22d46de6f",
   "metadata": {},
   "source": [
    "## Question 7:"
   ]
  },
  {
   "cell_type": "code",
   "execution_count": 1,
   "id": "a2d74e10-46fc-4f22-9ea5-f7fd65ad619e",
   "metadata": {
    "tags": []
   },
   "outputs": [],
   "source": [
    "import pandas as pd\n",
    "import pandas as pd\n",
    "from prophet import Prophet\n",
    "from sklearn.metrics import mean_squared_error\n",
    "import numpy as np"
   ]
  },
  {
   "cell_type": "code",
   "execution_count": 2,
   "id": "4ac83060-465c-4447-a48a-a74e20db7e57",
   "metadata": {
    "tags": []
   },
   "outputs": [],
   "source": [
    "df = pd.read_pickle('shared/Project-3_NYC_311_Calls.pkl')"
   ]
  },
  {
   "cell_type": "code",
   "execution_count": 4,
   "id": "05742daa-7a61-4df3-9de2-2038eb8166fc",
   "metadata": {
    "tags": []
   },
   "outputs": [],
   "source": [
    "df.index = pd.to_datetime(df['Created Date'])\n",
    "df = df.set_index('Created Date')\n"
   ]
  },
  {
   "cell_type": "code",
   "execution_count": 5,
   "id": "5c911bc5-84ee-42a2-9f00-f328fe43a63b",
   "metadata": {
    "tags": []
   },
   "outputs": [],
   "source": [
    "\n",
    "df_daily = df['Unique Key'].resample('D').count().reset_index()\n",
    "df_daily.columns = ['ds', 'y']"
   ]
  },
  {
   "cell_type": "code",
   "execution_count": 6,
   "id": "1c9ab6ea-6fdf-471a-b5f6-0241e8e7a5ed",
   "metadata": {
    "tags": []
   },
   "outputs": [
    {
     "name": "stderr",
     "output_type": "stream",
     "text": [
      "01:29:22 - cmdstanpy - INFO - Chain [1] start processing\n",
      "01:29:23 - cmdstanpy - INFO - Chain [1] done processing\n"
     ]
    },
    {
     "data": {
      "text/plain": [
       "<prophet.forecaster.Prophet at 0x7f61961215a0>"
      ]
     },
     "execution_count": 6,
     "metadata": {},
     "output_type": "execute_result"
    }
   ],
   "source": [
    "model = Prophet()\n",
    "model.fit(df_daily)"
   ]
  },
  {
   "cell_type": "code",
   "execution_count": 9,
   "id": "e5b0c0a6-5ef6-45d2-a612-374374372b94",
   "metadata": {
    "tags": []
   },
   "outputs": [],
   "source": [
    "future = model.make_future_dataframe(periods=90)"
   ]
  },
  {
   "cell_type": "code",
   "execution_count": 10,
   "id": "8f51e7d8-ac10-4f9b-a19a-2031e2a0cc8e",
   "metadata": {
    "tags": []
   },
   "outputs": [],
   "source": [
    "forecast = model.predict(future)"
   ]
  },
  {
   "cell_type": "code",
   "execution_count": 11,
   "id": "0f4540a0-25a4-41b2-a0ad-59d8ef8d4ed0",
   "metadata": {
    "tags": []
   },
   "outputs": [],
   "source": [
    "actual_values = df_daily.tail(90)['y'].values"
   ]
  },
  {
   "cell_type": "code",
   "execution_count": 12,
   "id": "c6f3dc2e-ddd6-429c-85f8-db7a714e1283",
   "metadata": {
    "tags": []
   },
   "outputs": [],
   "source": [
    "predicted_values = forecast['yhat'][-90:].values"
   ]
  },
  {
   "cell_type": "code",
   "execution_count": 13,
   "id": "ec1bb4a2-03e4-4920-bf26-84d888c4901a",
   "metadata": {
    "tags": []
   },
   "outputs": [],
   "source": [
    "rmse = np.sqrt(mean_squared_error(actual_values, predicted_values))"
   ]
  },
  {
   "cell_type": "code",
   "execution_count": 14,
   "id": "279a9e19-41f5-43c6-ba8d-6f317a894e49",
   "metadata": {
    "tags": []
   },
   "outputs": [
    {
     "name": "stdout",
     "output_type": "stream",
     "text": [
      "The RMSE on the test set is: 1474.14\n"
     ]
    }
   ],
   "source": [
    "print(f\"The RMSE on the test set is: {rmse:.2f}\")"
   ]
  }
 ],
 "metadata": {
  "kernelspec": {
   "display_name": "Python [conda env:mggy8413]",
   "language": "python",
   "name": "conda-env-mggy8413-py"
  },
  "language_info": {
   "codemirror_mode": {
    "name": "ipython",
    "version": 3
   },
   "file_extension": ".py",
   "mimetype": "text/x-python",
   "name": "python",
   "nbconvert_exporter": "python",
   "pygments_lexer": "ipython3",
   "version": "3.10.12"
  }
 },
 "nbformat": 4,
 "nbformat_minor": 5
}
